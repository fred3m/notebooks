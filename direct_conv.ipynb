{
 "cells": [
  {
   "cell_type": "markdown",
   "metadata": {},
   "source": [
    "# Demonstration of using direct (real-space) convolutions in scarlet\n",
    "\n",
    "## Introduction\n",
    "The purpose of this notebook is to serve as a simple model to demonstrate how we can implement direct convolutions in scarlet in place of the current FFT convolutions. While designing this change I came across a few other changes that we can make to improve the speed of the code and potentially its memory footprint, while also lessening (or altogether eliminating) our dependence on autograd (or pytorch or jax). The other purpose is to remind my future self why I made some of the design choices that I made and give Peter and Remy the opportunity to correct and improve any elements of the design.\n",
    "\n",
    "### Gradients\n",
    "Let's start by thinking about why we switched to automatic gradients in the first place. We have a fairly simple model, where each extended source can be modeled as\n",
    "\n",
    "$M_k = A_k \\cdot S_k$\n",
    "\n",
    "where $M_k$ is the model for the $k^{th}$ component, $A_k$ is its amplitude and $S_k$ is its shape. So the model for the entire blend of $K$ components is\n",
    "\n",
    "$ M = \\sum_{k=1}^{K}{M_k}$.\n",
    "\n",
    "Given our data $D$ and weights $W$ our model without convolution is\n",
    "\n",
    "$ \\mathcal{L} = \\frac{1}{2}W\\cdot(D-M)^2$\n",
    "\n",
    "and with convolutions is\n",
    "\n",
    "$ \\mathcal{L}_C = \\frac{1}{2}W\\cdot(D-P(M))^2$\n",
    "\n",
    "where $P(M)$ is a function that performs a convolution on the entire model $M$. This function can be a direct analytic convolution like we first used in scarlet or a more complicated (to write) DFT.\n",
    "\n",
    "So initially we calculated the gradient of this model analytically by writing $\\mathcal{L}$ as \n",
    "\n",
    "$ \\mathcal{L} = \\frac{1}{2}W\\cdot(D-\\sum_{k=1}^{K}{A\\cdot S})^2$\n",
    "\n",
    "and calculating the entire derivative in one step. Even when we introduced a PSF we derived a rather pathalogical formula to apply the PSF that involved using a large tensor for $P$ that still allowed us to calculte the gradient in a single step. But once we switched to DFT convolutions on the entire image it became much more difficult to write an analytic gradient, especially knowing that our component models might get more complex, so we elected to use automatic gradients to speed up development. The other side benefit of using this method is that now our models could become more complex, as we didn't have to calcualte a complex derivative based on all of our parameters, for example our `PointSource` model became possible, as well as a future multiplicative models for dust.\n",
    "\n",
    "I think that this was the right thing to do and in general a good practice, as using autograd has certainly sped up development time, but using it comes with an overhead. This mostly involves the cpu time and memory necessary to generate the tree used by autograd to track each parameter so that it can properly be updated when the `grad` method is called. But looking back on what autograd actually does I think that it's time to implement a hybird approach to our gradients by thinking about what autograd does internally.\n",
    "\n",
    "Instead of attempting to calcualte the entire gradient in a single step, autograd would take our $\\mathcal{L}_C$ model above and use the chain rule. So to calculate the gradient of $A_i$ for model $i$ we would use\n",
    "\n",
    "$\\frac{\\partial\\mathcal{L}_C}{\\partial A_i} = \\frac{\\partial\\mathcal{L}_C}{\\partial P(M)} \\frac{\\partial P(M)}{\\partial M} \\frac{\\partial M}{\\partial M_i} \\frac{\\partial M_i}{\\partial A_i}$.\n",
    "\n",
    "So even when using DFTs for $P(M)$ we can analytically calculate all of the partial derivatives except for $\\frac{\\partial P(M)}{\\partial M}$, meaning we could significantly simplify the models we pass to autograd by calculating all of the known gradients and only using autograd to differntialte through the DFT.\n",
    "\n",
    "By switching to direct convolutions we can even calculate this term, so it is possible to build our gradient entirely analytically in the case where $\\frac{\\partial M_k}{\\partial x_k}$ is simple for some parameter $x_k$. In many cases we can still calculate $\\frac{\\partial M_k}{\\partial x_k}$ analytically, it will just be different than the usual $A_k$ and $S_k$ gradients. However, in cases where our initial model is complex and calculating the analytic gradient is either impossible or cumbersome (for example our `PointSource` model), we can implement whatever automatic gradient code the user chooses to calculate the gradients of only the $\\frac{\\partial M_k}{\\partial x_k}$ term. This gives us the benefit of speeding up runtime by giving autograd easier tasks but allowing us the flexibility to use autograd to quicky test a new model without too much analytic work to slow us down.\n",
    "\n",
    "### Direct convolutions in boxes\n",
    "\n",
    "This notebook also shows three different methods to calculate direct convolutions. All three methods are equally simple to implement and will be discussed in the next section, this section just holds the justification for using method 3 (hereafter refered to as the box method). This is similar to the calculation posted in slack (so feel free to skip to [Design](#Design)) only now I compare the following models:\n",
    "\n",
    "1. direct convolutions using autograd\n",
    "1. direct convolutions without autograd\n",
    "1. direct convolutions without autograd using the box method\n",
    "\n",
    "We first define the following:\n",
    "* $S$ = average area of a stamp\n",
    "* $I$ = Area of the entire image\n",
    "* $P$ = Area of the PSF\n",
    "* $k$ = number of sources in the image\n",
    "\n",
    "#### Method 1 (autograd)\n",
    "\n",
    "First we’ll look at using the current method but replacing the FFTs with convolutions in real space and the cost of each computation:\n",
    "Forward path:\n",
    "* First we have to pad each model from $S\\rightarrow I$: ~$kS$ operations\n",
    "* Sum all of the models together: $kI$ operations\n",
    "* Convolve the entire image with the PSF: $PI$ operations\n",
    "\n",
    "Backward path:\n",
    "* Derivative of the convolution operation for all pixels in the image: $PI$ operations\n",
    "* Derivative of the sum: $kI$ operations\n",
    "* Extract the box for each model: $kS$ operations\n",
    "\n",
    "**Total number of operations: $2(PI+kI+kS)$**\n",
    "\n",
    "#### Method 2 (without autograd)\n",
    "\n",
    "Now that we eliminate autograd we no longer have to pad our models and sum them in the image frame so we have significant savings:\n",
    "\n",
    "Forward Path:\n",
    "* Insert each model into the larger model (we don’t have to pad now since we don’t need autograd to do the derivative, we can just update a slice): $kS$ operations\n",
    "* Convolve the entire image with the PSF (same as before): $PI$ operations\n",
    "\n",
    "Backward Path:\n",
    "* Derivative of the convolution operation for all pixels in the image: $PI$ operations\n",
    "* Extract the box for each model: $kS$ operations\n",
    "\n",
    "**Total number of operations: $2(PI+kS)$**\n",
    "\n",
    "#### Method 3 (box method)\n",
    "\n",
    "Now lets look at the box method, where we can update each box individually.\n",
    "\n",
    "Forward path: same as method 2\n",
    "\n",
    "Backward path:\n",
    "* Extract the region from the derivative for each source: kSP operations\n",
    "\n",
    "**Total number of operations: $PI + kS + kSP$**\n",
    "\n",
    "#### Comparison\n",
    "\n",
    "The difference between method 1 and method 2 is $2kI$, which is substantial for large images with a large number of sources while the improvement from method 2 to method 3 is $P(I-kS) + kS$. The dominant term is the difference between the image area $I$ and the area of all the sources in the _model frame_, which should nearly always be smaller since most sources don't overlap in the model frame. In instances where they are nearly the same $kS$ will still offer a small savings for large images (imagine a 1k X 1k blend with 100's of sources, which we do see in some of the HSC deep fields). For such small savings it might be worth sticking with method 2, with the possibility of using FFT convolutions in the forward frame and only using the analytic convolutions in the backpropagation.\n",
    "\n",
    "## Design\n",
    "\n",
    "As stated in [Gradients](#Gradients) the main design change I am suggesting is to analytically calculate the first two partial derivatives in\n",
    "\n",
    "$\\frac{\\partial\\mathcal{L}_C}{\\partial x_i} = \\frac{\\partial\\mathcal{L}_C}{\\partial P(M)} \\frac{\\partial P(M)}{\\partial M} \\frac{\\partial M}{\\partial M_i} \\frac{\\partial M_i}{\\partial x_i}$\n",
    "\n",
    "ouselves, and leave it up to the model (and individual components) to calculate $\\frac{\\partial M}{\\partial M_i} \\frac{\\partial M_i}{\\partial x_i}$ for each model parameter $x_i$.\n",
    "\n",
    "I've identified the following changes to the code, which should be sufficient to implement this design:\n",
    "\n",
    "### General changes\n",
    "\n",
    "* `autograd` will be removed as a required dependency and all modules will `import numpy as np` except `fft.py`, which will still use autograd array boxes to allow us to backpropagate through FFTs if necessary (for example with shifting). However, if fft and ifft are the only methods that we use autograd for it might be useful to just implement those gradients ourselves too, although I can't say for sure how difficult that would be.\n",
    "\n",
    "### parameter.py\n",
    "\n",
    "I start with this module because it is the most confusing, mainly because I don't fully understand how `ArrayBox.register` works. Ideally we'd like to have a `Parameter` that is just a `numpy.array` with the added methods required by `AdaProx` to calculate gradients, since in the canonical case I don't think that we'll need autograd anymore. So I *think* that the following changes will be sufficient to make it possible to have autograd compatible parameters and autograd incompatible parameters (normal arrays) but I'd like Peter to confirm:\n",
    "* Keep `Parameter` as is\n",
    "* Create a new `AutogradParameter` that inherits from `Parameter`. Then in `parameter.py` we will use `ArrayBox.register(AutogradParameter)` and `VSpace.register(AutogradParameter, vspace_maker=Vspace.mappings[np.ndarray])`. This way ordinary models will have `Parameters` whose gradients will be updated by `AdaProx` while only the parameters that require autograd will use `AutogradParameter` (which I don't see being used much anymore except when testing out new models).\n",
    "\n",
    "Side note: shoud `parameter.py` be moved to `proxmin`? There isn't anything scarlet specific in here and this might prove useful to people using `proxmin` for optimization. This would also require a check as to whether or not autograd (or jax?) is installed to register the array box, and likely a setup option to decide which to use if they are both installed.\n",
    "\n",
    "### blend.py\n",
    "\n",
    "* `Blend.fit` will need to send a different `grad` function:\n",
    "    * Each observation will return either $\\frac{\\partial\\mathcal{L}_C}{\\partial M}$ or $\\frac{\\partial\\mathcal{L}_C}{\\partial P(M)}$ (see [observation.py](#observation.py)) that is the shape of the model frame.\n",
    "    * Methods 1 and 2\n",
    "        * The slice of $\\frac{\\partial\\mathcal{L}_C}{\\partial M}$ contained in each `Component.frame` is passed to\n",
    "          `Component.grad`.\n",
    "    * Box Method\n",
    "        * Each `Component` has only the pixels in its frame convolved  to calculate\n",
    "          $\\frac{\\partial P(M)}{\\partial M}$ and the result of $\\frac{\\partial\\mathcal{L}_C}{\\partial P(M)} \\frac{\\partial P(M)}{\\partial M}$ is passed to `Component.grad`.\n",
    "    * The result of `Component.grad` for all components is returned as a tuple (the same as the current implementation)\n",
    "\n",
    "### observation.py\n",
    "\n",
    "* We first calculate $\\frac{\\partial\\mathcal{L}_C}{\\partial P(M)} = -W\\cdot(D-P(M))$\n",
    "* Method 1 (with autograd)\n",
    "    * We create an `ArrayBox` for the model during `render` that is stored in the observation.\n",
    "      When `Observation.grad` is called we use autograd to calculate $\\frac{\\partial P(M)}{\\partial M}$ and multiply\n",
    "      that with $\\frac{\\partial\\mathcal{L}_C}{\\partial P(M)}$ and return $\\frac{\\partial\\mathcal{L}_C}{\\partial M}$.\n",
    "    * This will also allow us to use autograd for the multi-resolution observations\n",
    "* Method 2\n",
    "    * Both $\\frac{\\partial\\mathcal{L}_C}{\\partial P(M)}$ and $\\frac{\\partial P(M)}{\\partial M}$ are calculated\n",
    "      analytically in `Observation.grad` and returned, as in method 1.\n",
    "* Box method\n",
    "    * Only $\\frac{\\partial\\mathcal{L}_C}{\\partial P(M)}$ is calculated and returned from `Observation.grad`,\n",
    "      where `Blend.grad` will calculate $\\frac{\\partial P(M)}{\\partial M_i}$ for each component model $M_i$.\n",
    "\n",
    "### component.py\n",
    "\n",
    "* `Component`\n",
    "    * Will now contain a `grad` method that must be overridden in inherited classes.\n",
    "      `grad` takes the upstream gradients as an argument, the same as autograd,\n",
    "      and calculates $\\frac{\\partial M_i}{\\partial x_i}$ for each parameter $x_i$,\n",
    "      returning the result as a tuple.\n",
    "    * `get_model` will no longer pad, as `blend.get_model` will insert the model for each component into\n",
    "      an image the size of `blend.frame`.\n",
    "* `FactorizedComponent`\n",
    "    * All of the `_pad_...` methods will be removed\n",
    "    * `grad` will analytically calculate $\\frac{\\partial M_i}{\\partial A_i}$ and $\\frac{\\partial M_i}{\\partial S_i}$\n",
    "      and return a tuple with the total gradient updates for $A_i$ and $S_i$ (and the shift parameters if necessary)\n",
    "    * With `shift=True`\n",
    "        * `get_model` will build the model and store that in an `ArrayBox`, which is then shifted in k-space\n",
    "          and returned\n",
    "        * `grad` will use autograd to calculate $\\frac{\\partial M_i}{\\partial shift_y}$\n",
    "          and $\\frac{\\partial M_i}{\\partial shift_x}$\n",
    "* `FunctionComponent`\n",
    "    * `get_model` will build the model from the parameters exactly as before\n",
    "    * By default `grad` will assume that the parameters are `AutogradParameter`s and\n",
    "      calcualate $\\frac{\\partial M_i}{\\partial x_i}$ for each parameter.\n",
    "      This can be overridden by inherited classes with a known gradient.\n",
    "\n",
    "* `ComponentTree`\n",
    "    * For now all of our models are additive and have equal weight, so $\\frac{\\partial M}{\\partial M_i} = 1$.\n",
    "    * This makes `grad` easy, since it will just pass the result of $\\frac{\\partial\\mathcal{L}_C}{\\partial M}$\n",
    "      through to `Component.grad` for each component\n",
    "    * `get_model` is similar, except that now have two different case:\n",
    "        1. All of the components have the same frame\n",
    "            * In this case `get_model` can easily add all of the models together and return the result\n",
    "        1. Some components have different frames\n",
    "            * In this case we need to create a new frame for the `ComponentTree` that is the minimum size needed\n",
    "              to contain all of its components and return that in `get_model`.\n",
    "            * `grad` will now need to pass only the correct slice of each gradient through to its components\n",
    "            * `set_frame` will not pass the frame to its children, since they are already different sizes.\n",
    "\n",
    "### source.py\n",
    "\n",
    "* The only changes to `ExtendedSource` and `MultiComponentSource` is that if `shifting=True` then the shift will be a `AutogradParameter`, since `FactorizedComponent` and `ComponentTree` will implement all of the necessary upgrades to calcualte $\\frac{\\partial M_i}{\\partial A_i}$ and $\\frac{\\partial M_i}{\\partial S_i}$\n",
    "* `PointSource` will also remain unchanged for now, since implementing an analytic derivative to shift the PSF requires knowlege of the PSF function. Since we are likely to continue using gaussian PSFs in the future it may be worth our while to inherit from `PointSource` with a class that implements a gaussian PSF and an analytic gradient.\n",
    "\n",
    "### psf.py\n",
    "\n",
    "* `autograd.numpy` and `autograd.scipy` will be moved into the `gaussian` and `moffat` functions, since those are the only ones required to be compatible with autograd (because of `PointSource`)."
   ]
  },
  {
   "cell_type": "markdown",
   "metadata": {},
   "source": [
    "# Test methods 1 and 2 for speed\n",
    "\n",
    "We use a toy model to test what the speed improvement is using autograd vs analytic gradients. The first step is making sure that our toy model works with a small PSF and image that is easy to check"
   ]
  },
  {
   "cell_type": "code",
   "execution_count": 1,
   "metadata": {},
   "outputs": [],
   "source": [
    "from functools import partial\n",
    "\n",
    "import autograd.numpy as np\n",
    "#from autograd import grad\n",
    "from autograd.extend import defvjp, primitive\n",
    "from autograd import elementwise_grad as grad\n",
    "import matplotlib.pyplot as plt\n",
    "\n",
    "import scarlet\n",
    "from scarlet.operators_pybind11 import apply_filter"
   ]
  },
  {
   "cell_type": "code",
   "execution_count": 21,
   "metadata": {},
   "outputs": [],
   "source": [
    "def get_filter_coords(filter_values, center=None):\n",
    "    \"\"\"Create filter coordinate grid needed for the apply filter function\n",
    "    \"\"\"\n",
    "    if len(filter_values.shape)!=2:\n",
    "        raise ValueError(\"`filter_values` must be 2D\")\n",
    "    if center is None:\n",
    "        if filter_values.shape[0] % 2 == 0 or filter_values.shape[1] % 2 == 0:\n",
    "            msg = \"\"\"Ambiguous center of the `filter_values` array,\n",
    "                     you must use a `filter_values` array\n",
    "                     with an odd number of rows and columns or\n",
    "                     calculate `coords` on your own.\"\"\"\n",
    "            raise ValueError(msg)\n",
    "        center = [filter_values.shape[0]//2, filter_values.shape[1]//2]\n",
    "    x = np.arange(filter_values.shape[1])\n",
    "    y = np.arange(filter_values.shape[0])\n",
    "    x,y = np.meshgrid(x,y)\n",
    "    x -= center[1]\n",
    "    y -= center[0]\n",
    "    coords = np.dstack([y,x])\n",
    "    return coords\n",
    "\n",
    "\n",
    "def get_filter_slices(coords):\n",
    "    \"\"\"Get the slices in x and y to apply a filter\n",
    "    \"\"\"\n",
    "    z = np.zeros((len(coords),), dtype=int)\n",
    "    # Set the y slices\n",
    "    y_start = np.max([z, coords[:,0]], axis=0)\n",
    "    y_end = -np.min([z, coords[:,0]], axis=0)\n",
    "    # Set the x slices\n",
    "    x_start = np.max([z, coords[:,1]], axis=0)\n",
    "    x_end = -np.min([z, coords[:,1]], axis=0)\n",
    "    return y_start, y_end, x_start, x_end\n",
    "\n",
    "\n",
    "def get_component_model(sed, morph, center):\n",
    "    \"\"\"Get a model for a single component\n",
    "    \"\"\"\n",
    "    y,x = center\n",
    "    box = (slice(y-1, y+2), slice(x-1, x+2))\n",
    "    return sed[:, None, None]*morph[None, :, :], box\n",
    "\n",
    "def grad_get_component_model(chain_grad, model, sed, morph, center):\n",
    "    \"\"\"Calculate the gradient for a single component model\n",
    "    \n",
    "    This is dM/dM_i from the introduction.\n",
    "    \"\"\"\n",
    "    y,x = center\n",
    "    box = (slice(y-1, y+2), slice(x-1, x+2))\n",
    "    _chain_grad = chain_grad[:, box[0], box[1]]\n",
    "    sed_grad = np.einsum(\"...jk,jk\", _chain_grad, morph)\n",
    "    morph_grad = np.einsum(\"i,i...\", sed, _chain_grad)\n",
    "    return sed_grad, morph_grad\n",
    "\n",
    "\n",
    "def get_full_model(seds, morphs, centers, shape):\n",
    "    \"\"\"Combine all of the single component models into one model\n",
    "    \"\"\"\n",
    "    model = np.zeros(shape)\n",
    "    boxes = []\n",
    "    for k in range(len(seds)):\n",
    "        _model, box = get_component_model(seds[k], morphs[k], centers[k])\n",
    "        model[:, box[0], box[1]] += _model\n",
    "        boxes.append(box)\n",
    "    return model, box\n",
    "\n",
    "def grad_get_full_model(chain_grad, model, centers, seds, morphs):\n",
    "    \"\"\"Collect the gradients of all the single component models\n",
    "    \n",
    "    This would also multiply by dM/dM_i,\n",
    "    except that all models have equal weights so `dM/dM_i=1`.\n",
    "    \"\"\"\n",
    "    sed_grads = []\n",
    "    morph_grads = []\n",
    "    for k in range(len(centers)):\n",
    "        grads = grad_get_component_model(chain_grad, model, seds[k], morphs[k], centers[k])\n",
    "        sed_grads.append(grads[0])\n",
    "        morph_grads.append(grads[1])\n",
    "    return np.array(sed_grads), np.array(morph_grads)\n",
    "\n",
    "def a_get_full_model(seds, morphs, centers, shape):\n",
    "    \"\"\"Autograd implementation of grad_get_full_model\n",
    "    \n",
    "    This is similar to `get_full_model` except that we\n",
    "    have to pad the model for each source in order to\n",
    "    sum them together in a way that autograd understands.\n",
    "    This is likely where the majority of our cpu savings\n",
    "    come from.\n",
    "    \"\"\"\n",
    "    model = np.zeros(shape)\n",
    "    boxes = []\n",
    "    for k in range(len(seds)):\n",
    "        _model, box = get_component_model(seds[k], morphs[k], centers[k])\n",
    "        pad_width = list((\n",
    "                max(0, b.start),\n",
    "                max(0, model.shape[n+1]-b.stop),\n",
    "            )\n",
    "            for n, b in enumerate(box)\n",
    "        )\n",
    "        _model = np.pad(_model, [(0,0)] + pad_width,mode=\"constant\", constant_values=0)\n",
    "        model += _model\n",
    "        boxes.append(box)\n",
    "    return model, box\n",
    "\n",
    "@primitive\n",
    "def convolve(image, psf, slices):\n",
    "    \"\"\"Convolve an image with the PSF\n",
    "    \"\"\"\n",
    "    result = np.empty(image.shape, dtype=image.dtype)\n",
    "    for band in range(len(image)):\n",
    "        if hasattr(image[band], \"_value\"):\n",
    "            # This is an ArrayBox\n",
    "            img = image[band]._value\n",
    "        else:\n",
    "            img = image[band]\n",
    "        apply_filter(img, psf.reshape(-1), slices[0], slices[1], slices[2], slices[3], result[band])\n",
    "    return result\n",
    "\n",
    "def grad_convolve(input_grad, psf, slices):\n",
    "    \"\"\"Gradient of the convolution\n",
    "    \"\"\"\n",
    "    return convolve(input_grad, psf[::-1, ::-1], slices)    \n",
    "\n",
    "def a_grad_convolve(convolved, image, psf, slices):\n",
    "    \"\"\"Gradient of convolution for autograd\n",
    "    \n",
    "    Based on the autograd tutorial to implement your own gradients:\n",
    "    https://github.com/HIPS/autograd/blob/master/docs/tutorial.md\n",
    "    \"\"\"\n",
    "    return lambda input_grad: convolve(input_grad, psf[::-1, ::-1], slices)\n",
    "\n",
    "# Register this function in autograd\n",
    "defvjp(convolve, a_grad_convolve)\n",
    "\n",
    "def logL(data, model, weights=1):\n",
    "    \"\"\"Log-likelihood\n",
    "    \"\"\"\n",
    "    return 0.5*weights*(data-model)**2\n",
    "\n",
    "def grad_logL(data, model, weights=1):\n",
    "    \"\"\"Gradient of the log-likelihood\n",
    "    \"\"\"\n",
    "    return weights*(model-data)\n",
    "\n",
    "def a_loss(seds, morphs, image, psf, slices):\n",
    "    \"\"\"This is the method that autograd uses to calculate the gradients\n",
    "    \"\"\"\n",
    "    model, boxes = a_get_full_model(seds, morphs, centers, image.shape)\n",
    "    model = convolve(model, psf, slices)\n",
    "    return logL(image, model)\n",
    "\n",
    "\n",
    "def img2rgb(image):\n",
    "    \"\"\"Display an image as an array\n",
    "    \"\"\"\n",
    "    rgb = image.copy()\n",
    "    rgb[rgb>255] = 255\n",
    "    rgb[rgb<0] = 0\n",
    "    rgb = rgb.astype(np.uint8)\n",
    "    rgb = np.transpose(rgb, axes=(1,2,0))\n",
    "    return rgb\n",
    "\n",
    "def build_scene(shape, K, psf, figsize=None, show=True):\n",
    "    \"\"\"Build an image and models for a collection of sources\n",
    "    \"\"\"\n",
    "    B, N, M = shape\n",
    "    images = np.zeros(shape)\n",
    "    centers = np.zeros((K, 2), dtype=int)\n",
    "    seds = np.zeros((K, B))\n",
    "    morphs = np.zeros((K, 3, 3))\n",
    "    morphs[:, 1, 1] = 1\n",
    "    \n",
    "    for k in range(K):\n",
    "        morphs[k] = np.arange(9).reshape(3, 3)\n",
    "\n",
    "    py = ((psf.shape[0]-1)//2)\n",
    "    px = ((psf.shape[1]-1)//2)\n",
    "    print(py, px)\n",
    "\n",
    "    for k in range(K):\n",
    "        cy = np.random.randint(psf.shape[0], images.shape[1]-psf.shape[0])\n",
    "        cx = np.random.randint(psf.shape[1], images.shape[2]-psf.shape[1])\n",
    "        center = np.array([cy, cx])\n",
    "        sed = np.random.rand(B)\n",
    "        sed *= 500/np.sum(sed)\n",
    "        centers[k] = center\n",
    "        y,x = center\n",
    "        images[:, y-py:y+py+1, x-px:x+px+1] += psf[None, :, :] * sed[:,None,None]\n",
    "        seds[k] = sed\n",
    "    if show:\n",
    "        rgb = img2rgb(images)\n",
    "        if figsize is not None:\n",
    "            plt.figure(figsize=figsize)\n",
    "        plt.imshow(rgb)\n",
    "        plt.show()\n",
    "    return images, centers, seds, morphs"
   ]
  },
  {
   "cell_type": "code",
   "execution_count": 22,
   "metadata": {},
   "outputs": [],
   "source": [
    "def calculate_autograd_gradients(images, centers, seds, morphs):\n",
    "    # Initialize the autograd loss function\n",
    "    _grad = grad(partial(a_loss, image=images, psf=psf, slices=slices), tuple(range(2)))\n",
    "    g_auto = _grad(seds, morphs)\n",
    "    \n",
    "    return g_auto\n",
    "\n",
    "def calculate_analytic_gradients(images, centers, seds, morphs):\n",
    "    model, boxes = get_full_model(seds, morphs, centers, images.shape)\n",
    "    convolved = convolve(model, psf, slices)\n",
    "\n",
    "    gL = grad_logL(images, convolved)\n",
    "    gLC = grad_convolve(gL, psf, slices)\n",
    "\n",
    "    g_analytic = grad_get_full_model(gLC, model, centers, seds, morphs)\n",
    "    return g_analytic"
   ]
  },
  {
   "cell_type": "code",
   "execution_count": 23,
   "metadata": {
    "scrolled": false
   },
   "outputs": [
    {
     "data": {
      "image/png": "[encoded data removed]",
      "text/plain": [
       "<Figure size 72x72 with 1 Axes>"
      ]
     },
     "metadata": {
      "needs_background": "light"
     },
     "output_type": "display_data"
    },
    {
     "name": "stdout",
     "output_type": "stream",
     "text": [
      "1 1\n"
     ]
    },
    {
     "data": {
      "image/png": "[encoded data removed]",
      "text/plain": [
       "<Figure size 432x288 with 1 Axes>"
      ]
     },
     "metadata": {
      "needs_background": "light"
     },
     "output_type": "display_data"
    },
    {
     "name": "stdout",
     "output_type": "stream",
     "text": [
      "CPU times: user 3.07 ms, sys: 536 µs, total: 3.61 ms\n",
      "Wall time: 3.38 ms\n",
      "CPU times: user 615 µs, sys: 161 µs, total: 776 µs\n",
      "Wall time: 679 µs\n"
     ]
    },
    {
     "data": {
      "text/plain": [
       "(3.637978807091713e-12, 0.0)"
      ]
     },
     "execution_count": 23,
     "metadata": {},
     "output_type": "execute_result"
    }
   ],
   "source": [
    "np.random.seed(1)\n",
    "\n",
    "# Initialize a small PSF\n",
    "units = 0.05\n",
    "psf = np.array([[0,4,0],[2,6,3],[0,5,0]]) * units\n",
    "_psf = psf[::-1, ::-1]\n",
    "\n",
    "# get the coords and filter slices needed to \n",
    "coords = get_filter_coords(psf)\n",
    "slices = get_filter_slices(coords.reshape(-1, 2))\n",
    "\n",
    "plt.figure(figsize=(1,1))\n",
    "plt.title(\"psf\")\n",
    "plt.imshow(psf)\n",
    "plt.show()\n",
    "\n",
    "K = 4\n",
    "images, centers, seds, morphs = build_scene((3, 10, 12), K, psf)\n",
    "\n",
    "%time g_auto = calculate_autograd_gradients(images, centers, seds/2, morphs)\n",
    "%time g_analytic = calculate_analytic_gradients(images, centers, seds/2, morphs)\n",
    "np.max(np.abs(g_auto[0]-g_analytic[0])), np.max(np.abs(g_auto[1]-g_analytic[1]))"
   ]
  },
  {
   "cell_type": "code",
   "execution_count": 24,
   "metadata": {},
   "outputs": [
    {
     "data": {
      "text/plain": [
       "(array([[ 0.00000000e+00,  0.00000000e+00, -1.81898940e-12],\n",
       "        [ 0.00000000e+00,  1.81898940e-12,  0.00000000e+00],\n",
       "        [ 0.00000000e+00,  0.00000000e+00,  0.00000000e+00],\n",
       "        [-3.63797881e-12, -1.13686838e-13,  0.00000000e+00]]),\n",
       " array([[[0., 0., 0.],\n",
       "         [0., 0., 0.],\n",
       "         [0., 0., 0.]],\n",
       " \n",
       "        [[0., 0., 0.],\n",
       "         [0., 0., 0.],\n",
       "         [0., 0., 0.]],\n",
       " \n",
       "        [[0., 0., 0.],\n",
       "         [0., 0., 0.],\n",
       "         [0., 0., 0.]],\n",
       " \n",
       "        [[0., 0., 0.],\n",
       "         [0., 0., 0.],\n",
       "         [0., 0., 0.]]]))"
      ]
     },
     "execution_count": 24,
     "metadata": {},
     "output_type": "execute_result"
    }
   ],
   "source": [
    "g_auto[0] - g_analytic[0], g_auto[1] - g_analytic[1]"
   ]
  },
  {
   "cell_type": "code",
   "execution_count": null,
   "metadata": {},
   "outputs": [],
   "source": []
  },
  {
   "cell_type": "code",
   "execution_count": 25,
   "metadata": {
    "scrolled": false
   },
   "outputs": [
    {
     "name": "stdout",
     "output_type": "stream",
     "text": [
      "1 1\n"
     ]
    },
    {
     "data": {
      "image/png": "[encoded data removed]",
      "text/plain": [
       "<Figure size 1080x1080 with 1 Axes>"
      ]
     },
     "metadata": {
      "needs_background": "light"
     },
     "output_type": "display_data"
    },
    {
     "name": "stdout",
     "output_type": "stream",
     "text": [
      "CPU times: user 165 ms, sys: 7.06 ms, total: 172 ms\n",
      "Wall time: 97.5 ms\n",
      "CPU times: user 37.4 ms, sys: 681 µs, total: 38.1 ms\n",
      "Wall time: 8.66 ms\n"
     ]
    },
    {
     "data": {
      "text/plain": [
       "(7.275957614183426e-12, 0.0)"
      ]
     },
     "execution_count": 25,
     "metadata": {},
     "output_type": "execute_result"
    }
   ],
   "source": [
    "np.random.seed(1)\n",
    "\n",
    "K = 100\n",
    "images, centers, seds, morphs = build_scene((3, 300, 300), K, psf, figsize=(15, 15))\n",
    "\n",
    "%time g_auto = calculate_autograd_gradients(images, centers, seds, morphs)\n",
    "%time g_analytic = calculate_analytic_gradients(images, centers, seds, morphs)\n",
    "np.max(np.abs(g_auto[0]-g_analytic[0])), np.max(np.abs(g_auto[1]-g_analytic[1]))"
   ]
  },
  {
   "cell_type": "code",
   "execution_count": 26,
   "metadata": {
    "scrolled": false
   },
   "outputs": [
    {
     "data": {
      "image/png": "[encoded data removed]",
      "text/plain": [
       "<Figure size 72x72 with 1 Axes>"
      ]
     },
     "metadata": {
      "needs_background": "light"
     },
     "output_type": "display_data"
    },
    {
     "name": "stdout",
     "output_type": "stream",
     "text": [
      "20 20\n"
     ]
    },
    {
     "data": {
      "image/png": "[encoded data removed]",
      "text/plain": [
       "<Figure size 1080x1080 with 1 Axes>"
      ]
     },
     "metadata": {
      "needs_background": "light"
     },
     "output_type": "display_data"
    },
    {
     "name": "stdout",
     "output_type": "stream",
     "text": [
      "CPU times: user 1.21 s, sys: 7.84 ms, total: 1.22 s\n",
      "Wall time: 641 ms\n",
      "CPU times: user 1.02 s, sys: 4.91 ms, total: 1.03 s\n",
      "Wall time: 459 ms\n"
     ]
    },
    {
     "data": {
      "text/plain": [
       "(2.3283064365386963e-10, 0.0)"
      ]
     },
     "execution_count": 26,
     "metadata": {},
     "output_type": "execute_result"
    }
   ],
   "source": [
    "np.random.seed(1)\n",
    "\n",
    "# Initialize a small PSF\n",
    "units = 0.05\n",
    "psf = scarlet.gaussian(20, 20, sigma=1, integrate=True, bbox=scarlet.Box((5, 41, 41)))[0]\n",
    "\n",
    "# get the coords and filter slices needed to \n",
    "coords = get_filter_coords(psf)\n",
    "slices = get_filter_slices(coords.reshape(-1, 2))\n",
    "\n",
    "plt.figure(figsize=(1,1))\n",
    "plt.title(\"psf\")\n",
    "plt.imshow(psf)\n",
    "plt.show()\n",
    "\n",
    "K = 300\n",
    "images, centers, seds, morphs = build_scene((3, 300, 300), K, psf, figsize=(15, 15))\n",
    "\n",
    "%time g_auto = calculate_autograd_gradients(images, centers, seds, morphs)\n",
    "%time g_analytic = calculate_analytic_gradients(images, centers, seds, morphs)\n",
    "np.max(np.abs(g_auto[0]-g_analytic[0])), np.max(np.abs(g_auto[1]-g_analytic[1]))"
   ]
  },
  {
   "cell_type": "code",
   "execution_count": null,
   "metadata": {},
   "outputs": [],
   "source": []
  },
  {
   "cell_type": "code",
   "execution_count": null,
   "metadata": {},
   "outputs": [],
   "source": []
  }
 ],
 "metadata": {
  "kernelspec": {
   "display_name": "Python 3",
   "language": "python",
   "name": "python3"
  },
  "language_info": {
   "codemirror_mode": {
    "name": "ipython",
    "version": 3
   },
   "file_extension": ".py",
   "mimetype": "text/x-python",
   "name": "python",
   "nbconvert_exporter": "python",
   "pygments_lexer": "ipython3",
   "version": "3.7.2"
  }
 },
 "nbformat": 4,
 "nbformat_minor": 2
}
