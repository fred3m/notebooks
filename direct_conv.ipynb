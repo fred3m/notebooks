{
 "cells": [
  {
   "cell_type": "markdown",
   "metadata": {},
   "source": [
    "# Comparison of slicing and gradient updates\n",
    "\n",
    "For our project there are two primary places that we need to optimize, inserting a large number of small patches into a larger images and convolutions. This notebook is to demonstrate that just inserting the models using JAX is significantly more expensive than autograd (and directly doing the gradients with numpy) to the point where it is unusable for us."
   ]
  },
  {
   "cell_type": "code",
   "execution_count": 1,
   "metadata": {},
   "outputs": [],
   "source": [
    "from functools import partial\n",
    "\n",
    "import numpy as np\n",
    "import autograd.numpy as anp\n",
    "import autograd\n",
    "import jax.numpy as jnp\n",
    "import jax\n",
    "\n",
    "import matplotlib.pyplot as plt"
   ]
  },
  {
   "cell_type": "markdown",
   "metadata": {},
   "source": [
    "## Direct gradients\n",
    "\n",
    "We first illustrate the base case with direct gradients. Our actual models require FFTs and convolutions, but this represents the core of our algorithm that appears difficult to reproduce in JAX without significant performance issues"
   ]
  },
  {
   "cell_type": "code",
   "execution_count": 2,
   "metadata": {},
   "outputs": [],
   "source": [
    "def get_component_model(sed, morph, center):\n",
    "    \"\"\"Get a model for a single component\n",
    "    \"\"\"\n",
    "    y,x = center\n",
    "    box = (slice(y-1, y+2), slice(x-1, x+2))\n",
    "    return sed[:, None, None]*morph[None, :, :], box\n",
    "\n",
    "def grad_get_component_model(chain_grad, model, sed, morph, center):\n",
    "    \"\"\"Calculate the gradient for a single component model\n",
    "    \"\"\"\n",
    "    y,x = center\n",
    "    box = (slice(y-1, y+2), slice(x-1, x+2))\n",
    "    _chain_grad = chain_grad[:, box[0], box[1]]\n",
    "    sed_grad = np.einsum(\"...jk,jk\", _chain_grad, morph)\n",
    "    morph_grad = np.einsum(\"i,i...\", sed, _chain_grad)\n",
    "    return sed_grad, morph_grad\n",
    "\n",
    "def get_full_model(seds, morphs, centers, shape):\n",
    "    \"\"\"Combine all of the single component models into one model\n",
    "    \"\"\"\n",
    "    model = np.zeros(shape)\n",
    "    boxes = []\n",
    "    for k in range(len(seds)):\n",
    "        _model, box = get_component_model(seds[k], morphs[k], centers[k])\n",
    "        model[:, box[0], box[1]] += _model\n",
    "        boxes.append(box)\n",
    "    return model, box\n",
    "\n",
    "def grad_get_full_model(chain_grad, model, centers, seds, morphs):\n",
    "    \"\"\"Collect the gradients of all the single component models\n",
    "    \n",
    "    This would also multiply by dM/dM_i,\n",
    "    except that all models have equal weights so `dM/dM_i=1`.\n",
    "    \"\"\"\n",
    "    sed_grads = []\n",
    "    morph_grads = []\n",
    "    for k in range(len(centers)):\n",
    "        grads = grad_get_component_model(chain_grad, model, seds[k], morphs[k], centers[k])\n",
    "        sed_grads.append(grads[0])\n",
    "        morph_grads.append(grads[1])\n",
    "    return np.array(sed_grads), np.array(morph_grads)\n",
    "\n",
    "def logL(data, model, weights=1):\n",
    "    \"\"\"Log-likelihood\n",
    "    \"\"\"\n",
    "    return 0.5*weights*(data-model)**2\n",
    "\n",
    "def grad_logL(data, model, weights=1):\n",
    "    \"\"\"Gradient of the log-likelihood\n",
    "    \"\"\"\n",
    "    return weights*(model-data)\n",
    "\n",
    "def calculate_gradients_direct(images, centers, seds, morphs):\n",
    "    model, boxes = get_full_model(seds, morphs, centers, images.shape)\n",
    "    gL = grad_logL(images, model)\n",
    "    g_direct = grad_get_full_model(gL, model, centers, seds, morphs)\n",
    "    return g_direct"
   ]
  },
  {
   "cell_type": "markdown",
   "metadata": {},
   "source": [
    "## autograd gradients\n",
    "\n",
    "We reuse `get_component_model` and `logL` but rewrite the other methods to build our models and take their gradients with autograd"
   ]
  },
  {
   "cell_type": "code",
   "execution_count": 135,
   "metadata": {},
   "outputs": [],
   "source": [
    "@autograd.extend.primitive\n",
    "def add_slice(destination, source, slices):\n",
    "    destination[slices] += source\n",
    "    return destination\n",
    "\n",
    "def grad_add_slice_dest(result, destination, source, slices):\n",
    "    return lambda grad_chain: grad_chain\n",
    "\n",
    "def grad_add_slice_src(result, destination, source, slices):\n",
    "    def result(grad_chain):\n",
    "        return grad_chain[slices]\n",
    "    return result\n",
    "\n",
    "# Register this function in autograd\n",
    "autograd.extend.defvjp(add_slice, grad_add_slice_dest, grad_add_slice_src)\n",
    "\n",
    "def get_full_model_autograd(seds, morphs, centers, shape):\n",
    "    model = anp.zeros(shape)\n",
    "    boxes = []\n",
    "    for k in range(len(seds)):\n",
    "        _model, box = get_component_model(seds[k], morphs[k], centers[k])\n",
    "        box = (slice(None),) + box\n",
    "        model = add_slice(model, _model, box)\n",
    "        boxes.append(box)\n",
    "    return model, box\n",
    "\n",
    "def loss_autograd(seds, morphs, image):\n",
    "    \"\"\"This is the method that autograd uses to calculate the gradients\n",
    "    \"\"\"\n",
    "    model, boxes = get_full_model_autograd(seds, morphs, centers, image.shape)\n",
    "    return anp.sum(logL(image, model))\n",
    "\n",
    "def calculate_gradients_autograd(images, centers, seds, morphs):\n",
    "    # Initialize the autograd loss function\n",
    "    _grad = autograd.grad(partial(loss_autograd, image=images), tuple(range(2)))\n",
    "    g_auto = _grad(seds, morphs)\n",
    "    \n",
    "    return g_auto"
   ]
  },
  {
   "cell_type": "markdown",
   "metadata": {},
   "source": [
    "## JAX gradients\n",
    "\n",
    "This code produces the same results while using JAX and `jit`."
   ]
  },
  {
   "cell_type": "code",
   "execution_count": 152,
   "metadata": {},
   "outputs": [],
   "source": [
    "def get_full_model_jax(seds, morphs, centers, shape):\n",
    "    model = jnp.zeros(shape)\n",
    "    boxes = []\n",
    "    for k in range(len(seds)):\n",
    "        _model, box = get_component_model(seds[k], morphs[k], centers[k])\n",
    "        box = (slice(None),) + box\n",
    "        model = jax.ops.index_add(model, jax.ops.index[box], _model)\n",
    "        boxes.append(box)\n",
    "    return model, box\n",
    "\n",
    "def loss_jax(seds, morphs, image, centers):\n",
    "    \"\"\"This is the method that jax uses to calculate the gradients\n",
    "    \"\"\"\n",
    "    model, boxes = get_full_model_jax(seds, morphs, centers, image.shape)\n",
    "    return jnp.sum(logL(image, model))\n",
    "\n",
    "def calculate_gradients_jax(images, centers, seds, morphs):\n",
    "    _grad = jax.grad(partial(loss_jax, image=images, centers=centers), tuple(range(2)))\n",
    "    g_jax = _grad(seds, morphs)\n",
    "    \n",
    "    return g_jax"
   ]
  },
  {
   "cell_type": "markdown",
   "metadata": {},
   "source": [
    "# JIT gradients\n",
    "\n",
    "This is the same code as in the JAX section, wrapped in jit"
   ]
  },
  {
   "cell_type": "code",
   "execution_count": 293,
   "metadata": {},
   "outputs": [],
   "source": [
    "@jax.jit\n",
    "def get_component_model_jit(sed, morph):\n",
    "    \"\"\"Get a model for a single component\n",
    "    \"\"\"\n",
    "    shape = (sed.shape[0], morph.shape[0], morph.shape[1])\n",
    "    _sed = jax.lax.broadcast_in_dim(sed, shape, (0,))\n",
    "    _morph = jax.lax.broadcast_in_dim(morph, shape, (1,2))\n",
    "    return _sed * _morph\n",
    "\n",
    "def _update_model(model, k, seds, morphs, centers):\n",
    "    y,x = centers[k]\n",
    "    _model = get_component_model_jit(seds[k], morphs[k])\n",
    "    start_indices = (0, y-1, x-1)\n",
    "    _model += jax.lax.dynamic_slice(model, start_indices, _model.shape)\n",
    "    model = jax.lax.dynamic_update_slice(model, _model, start_indices)\n",
    "    return model, None\n",
    "\n",
    "def get_full_model_jit(seds, morphs, centers, shape):\n",
    "    model = jnp.zeros(shape)\n",
    "    boxes = []\n",
    "    func = partial(_update_model, seds=seds, morphs=morphs, centers=centers)\n",
    "    model, _ = jax.lax.scan(func, model, np.arange(len(seds)))\n",
    "    return model\n",
    "\n",
    "def loss_jit(seds, morphs, image, centers):\n",
    "    \"\"\"This is the method that jax uses to calculate the gradients\n",
    "    \"\"\"\n",
    "    model = get_full_model_jit(seds, morphs, centers, image.shape)\n",
    "    return jnp.sum(logL(image, model))\n",
    "\n",
    "def calculate_gradients_jit(images, centers, seds, morphs):\n",
    "    _grad = jax.grad(partial(loss_jit, image=images, centers=centers), tuple(range(2)))\n",
    "    g_jax = _grad(seds, morphs)\n",
    "    \n",
    "    return g_jax"
   ]
  },
  {
   "cell_type": "markdown",
   "metadata": {},
   "source": [
    "## Build and Display the model\n",
    "\n",
    "This builds the model and allows us to display it as an RGB image."
   ]
  },
  {
   "cell_type": "code",
   "execution_count": 294,
   "metadata": {},
   "outputs": [],
   "source": [
    "def img2rgb(image):\n",
    "    \"\"\"Display an image as an array\n",
    "    \"\"\"\n",
    "    rgb = image.copy()\n",
    "    rgb[rgb>255] = 255\n",
    "    rgb[rgb<0] = 0\n",
    "    rgb = rgb.astype(np.uint8)\n",
    "    rgb = np.transpose(rgb, axes=(1,2,0))\n",
    "    return rgb\n",
    "\n",
    "def build_scene(shape, K, figsize=None, show=True):\n",
    "    \"\"\"Build an image and models for a collection of sources\n",
    "    \"\"\"\n",
    "    B, N, M = shape\n",
    "    images = np.zeros(shape)\n",
    "    centers = np.zeros((K, 2), dtype=int)\n",
    "    seds = np.zeros((K, B))\n",
    "    morphs = np.zeros((K, 3, 3))\n",
    "    morphs[:, 1, 1] = 1\n",
    "    \n",
    "    for k in range(K):\n",
    "        morphs[k] = np.arange(9).reshape(3, 3)\n",
    "\n",
    "    for k in range(K):\n",
    "        cy = np.random.randint(4, images.shape[1]-4)\n",
    "        cx = np.random.randint(4, images.shape[2]-4)\n",
    "        center = np.array([cy, cx])\n",
    "        sed = np.random.rand(B)\n",
    "        sed *= 500/np.sum(sed)\n",
    "        centers[k] = center\n",
    "        y,x = center\n",
    "        images[:, y-1:y+2, x-1:x+2] += morphs[k][None, :, :] * sed[:,None,None]\n",
    "        seds[k] = sed\n",
    "    if show:\n",
    "        rgb = img2rgb(images)\n",
    "        if figsize is not None:\n",
    "            plt.figure(figsize=figsize)\n",
    "        plt.imshow(rgb)\n",
    "        plt.show()\n",
    "    return images, centers, seds, morphs"
   ]
  },
  {
   "cell_type": "markdown",
   "metadata": {},
   "source": [
    "## Test the models\n",
    "\n",
    "We see that autograd is slower than direct gradients but in our experience the majority of the time is spent on convolutions and this minor difference in runtime isn't significant. However, the factor of greater than 100 slowdown with JAX is significant."
   ]
  },
  {
   "cell_type": "code",
   "execution_count": 297,
   "metadata": {},
   "outputs": [
    {
     "data": {
      "image/png": "[encoded data removed]",
      "text/plain": [
       "<Figure size 432x288 with 1 Axes>"
      ]
     },
     "metadata": {
      "needs_background": "light"
     },
     "output_type": "display_data"
    },
    {
     "name": "stdout",
     "output_type": "stream",
     "text": [
      "Direct gradients\n",
      "CPU times: user 38.8 ms, sys: 185 µs, total: 39 ms\n",
      "Wall time: 9.35 ms\n",
      "\n",
      "autograd gradients\n",
      "CPU times: user 293 ms, sys: 4.61 ms, total: 298 ms\n",
      "Wall time: 74.8 ms\n",
      "CPU times: user 5.43 s, sys: 852 ms, total: 6.28 s\n",
      "Wall time: 4.55 s\n",
      "\n",
      "JIT gradients\n",
      "CPU times: user 477 ms, sys: 8.87 ms, total: 486 ms\n",
      "Wall time: 470 ms\n",
      "\n",
      "\n",
      "These should all be approximately (0, 0)\n",
      "1.4551915228366852e-11 0.0\n",
      "0.00390625 0.0625\n",
      "0.00390625 0.0625\n"
     ]
    }
   ],
   "source": [
    "np.random.seed(1)\n",
    "\n",
    "K = 300\n",
    "shape = (3, 300, 300)\n",
    "images, centers, seds, morphs = build_scene(shape, K)\n",
    "\n",
    "# Convert the data into autograd arrays\n",
    "images_autograd = anp.asarray(images)\n",
    "centers_autograd = anp.asarray(centers)\n",
    "seds_autograd = anp.asarray(seds)\n",
    "morphs_autograd = anp.asarray(morphs)\n",
    "\n",
    "# Convert the data into jax arrays\n",
    "images_jax = jnp.asarray(images)\n",
    "centers_jax = jnp.asarray(centers)\n",
    "seds_jax = jnp.asarray(seds)\n",
    "morphs_jax = jnp.asarray(morphs)\n",
    "\n",
    "print(\"Direct gradients\")\n",
    "%time g_direct = calculate_gradients_direct(images, centers, seds/2, morphs)\n",
    "\n",
    "print(\"\\nautograd gradients\")\n",
    "%time g_auto = calculate_gradients_autograd(images_autograd, centers_autograd, seds_autograd/2, morphs_autograd)\n",
    "\n",
    "#print(\"\\nJAX gradients\")\n",
    "%time g_jax = calculate_gradients_jax(images_jax, centers_jax, seds_jax/2, morphs_jax)\n",
    "\n",
    "print(\"\\nJIT gradients\")\n",
    "%time g_jax = calculate_gradients_jit(images_jax, centers_jax, seds_jax/2, morphs_jax)\n",
    "\n",
    "# Check that the results are the same\n",
    "print(\"\\n\\nThese should all be approximately (0, 0)\")\n",
    "print(np.max(np.abs(g_auto[0]-g_direct[0])), np.max(np.abs(g_auto[1]-g_direct[1])))\n",
    "print(np.max(np.abs(g_direct[0]-g_jax[0])), np.max(np.abs(g_direct[1]-g_jax[1])))\n",
    "print(np.max(np.abs(g_direct[0]-g_jit[0])), np.max(np.abs(g_direct[1]-g_jit[1])))"
   ]
  },
  {
   "cell_type": "markdown",
   "metadata": {},
   "source": [
    "## Isolating the issue\n",
    "\n",
    "We further isolate the issue by executing just the `get_model` functions, which just inserts the `(3,3,3)` model into the full `(3, 300, 300)` image and note the significant difference in runtime."
   ]
  },
  {
   "cell_type": "code",
   "execution_count": 296,
   "metadata": {},
   "outputs": [
    {
     "name": "stdout",
     "output_type": "stream",
     "text": [
      "CPU times: user 4.63 ms, sys: 1.21 ms, total: 5.84 ms\n",
      "Wall time: 5.37 ms\n",
      "CPU times: user 5.04 ms, sys: 570 µs, total: 5.61 ms\n",
      "Wall time: 5.04 ms\n",
      "CPU times: user 3.44 s, sys: 683 ms, total: 4.13 s\n",
      "Wall time: 3.11 s\n",
      "CPU times: user 128 ms, sys: 31.2 ms, total: 159 ms\n",
      "Wall time: 157 ms\n",
      "\n",
      "\n",
      "These should all be approximately (0, 0)\n",
      "0.0\n",
      "0.00024414062\n",
      "0.00024414062\n"
     ]
    }
   ],
   "source": [
    "%time m_direct = get_full_model(seds, morphs, centers, images.shape)[0]\n",
    "%time m_autograd = get_full_model_autograd(seds_autograd, morphs_autograd, centers_autograd, images.shape)[0]\n",
    "%time m_jax = get_full_model_jax(seds_jax, morphs_jax, centers_jax, images.shape)[0]\n",
    "%time m_jit = get_full_model_jit(seds_jax, morphs_jax, centers_jax, images.shape)\n",
    "\n",
    "print(\"\\n\\nThese should all be approximately (0, 0)\")\n",
    "print(np.max(m_direct-m_autograd))\n",
    "print(np.max(m_direct-m_jax))\n",
    "print(np.max(m_direct-m_jit))"
   ]
  },
  {
   "cell_type": "code",
   "execution_count": null,
   "metadata": {},
   "outputs": [],
   "source": []
  }
 ],
 "metadata": {
  "kernelspec": {
   "display_name": "Python 3",
   "language": "python",
   "name": "python3"
  },
  "language_info": {
   "codemirror_mode": {
    "name": "ipython",
    "version": 3
   },
   "file_extension": ".py",
   "mimetype": "text/x-python",
   "name": "python",
   "nbconvert_exporter": "python",
   "pygments_lexer": "ipython3",
   "version": "3.7.2"
  }
 },
 "nbformat": 4,
 "nbformat_minor": 2
}
